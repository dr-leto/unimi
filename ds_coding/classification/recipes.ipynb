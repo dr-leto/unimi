{
 "cells": [
  {
   "cell_type": "markdown",
   "id": "3a7c49e8",
   "metadata": {},
   "source": [
    "## Classify recepies\n",
    "Example of data gathered from a relational database. Data are not available for testing. The relevant relations are of the form:\n",
    "```\n",
    "recipe(id, ..., fat)\n",
    "n100g(recipe, nfactor, nvalue)\n",
    "```\n",
    "`n100g` provides info on the nutrients per 100g. The task is to predict the fat class of the recipe (red, orange, green)"
   ]
  },
  {
   "cell_type": "markdown",
   "id": "b4e5312d",
   "metadata": {},
   "source": [
    "## Connect the database and perform the query"
   ]
  },
  {
   "cell_type": "code",
   "execution_count": 1,
   "id": "393ba0e7",
   "metadata": {},
   "outputs": [],
   "source": [
    "import pandas as pd\n",
    "import numpy as np\n",
    "from tqdm.notebook import tqdm"
   ]
  },
  {
   "cell_type": "code",
   "execution_count": 2,
   "id": "defde92d",
   "metadata": {},
   "outputs": [],
   "source": [
    "from sqlalchemy import create_engine"
   ]
  },
  {
   "cell_type": "code",
   "execution_count": 3,
   "id": "556bb781",
   "metadata": {},
   "outputs": [],
   "source": [
    "import json"
   ]
  },
  {
   "cell_type": "code",
   "execution_count": 4,
   "id": "932e527f",
   "metadata": {},
   "outputs": [],
   "source": [
    "confile = '/Users/flint/Data/psql/conf.json'\n",
    "with open(confile, 'r') as infile:\n",
    "    conf = json.load(infile)"
   ]
  },
  {
   "cell_type": "code",
   "execution_count": 5,
   "id": "af12f9fc",
   "metadata": {},
   "outputs": [],
   "source": [
    "user, database = 'postgres', 'recipes'\n",
    "engine = create_engine(\"postgresql+psycopg2://{}:{}@localhost:5432/{}\".format(\n",
    "    user, conf['psw'], database))"
   ]
  },
  {
   "cell_type": "code",
   "execution_count": 6,
   "id": "73e48ec2",
   "metadata": {},
   "outputs": [],
   "source": [
    "sql = \"\"\"\n",
    "SELECT R.id, R.fat, N.nvalue, N.nfactor\n",
    "FROM rcp.recipe AS R\n",
    "JOIN rcp.n100g AS N ON R.id = N.recipe\n",
    "\"\"\""
   ]
  },
  {
   "cell_type": "code",
   "execution_count": 7,
   "id": "0df991a6",
   "metadata": {},
   "outputs": [],
   "source": [
    "data = pd.read_sql(sql, engine)"
   ]
  },
  {
   "cell_type": "code",
   "execution_count": 8,
   "id": "634a6f6e",
   "metadata": {},
   "outputs": [
    {
     "data": {
      "text/html": [
       "<div>\n",
       "<style scoped>\n",
       "    .dataframe tbody tr th:only-of-type {\n",
       "        vertical-align: middle;\n",
       "    }\n",
       "\n",
       "    .dataframe tbody tr th {\n",
       "        vertical-align: top;\n",
       "    }\n",
       "\n",
       "    .dataframe thead th {\n",
       "        text-align: right;\n",
       "    }\n",
       "</style>\n",
       "<table border=\"1\" class=\"dataframe\">\n",
       "  <thead>\n",
       "    <tr style=\"text-align: right;\">\n",
       "      <th></th>\n",
       "      <th>id</th>\n",
       "      <th>fat</th>\n",
       "      <th>nvalue</th>\n",
       "      <th>nfactor</th>\n",
       "    </tr>\n",
       "  </thead>\n",
       "  <tbody>\n",
       "    <tr>\n",
       "      <th>0</th>\n",
       "      <td>ce5a91d93e</td>\n",
       "      <td>red</td>\n",
       "      <td>402.746</td>\n",
       "      <td>nrg</td>\n",
       "    </tr>\n",
       "    <tr>\n",
       "      <th>1</th>\n",
       "      <td>ce5a91d93e</td>\n",
       "      <td>red</td>\n",
       "      <td>30.601</td>\n",
       "      <td>fat</td>\n",
       "    </tr>\n",
       "    <tr>\n",
       "      <th>2</th>\n",
       "      <td>ce5a91d93e</td>\n",
       "      <td>red</td>\n",
       "      <td>7.422</td>\n",
       "      <td>sod</td>\n",
       "    </tr>\n",
       "    <tr>\n",
       "      <th>3</th>\n",
       "      <td>ce5a91d93e</td>\n",
       "      <td>red</td>\n",
       "      <td>17.563</td>\n",
       "      <td>sat</td>\n",
       "    </tr>\n",
       "    <tr>\n",
       "      <th>4</th>\n",
       "      <td>ce5a91d93e</td>\n",
       "      <td>red</td>\n",
       "      <td>1.074</td>\n",
       "      <td>sug</td>\n",
       "    </tr>\n",
       "  </tbody>\n",
       "</table>\n",
       "</div>"
      ],
      "text/plain": [
       "           id  fat   nvalue nfactor\n",
       "0  ce5a91d93e  red  402.746     nrg\n",
       "1  ce5a91d93e  red   30.601     fat\n",
       "2  ce5a91d93e  red    7.422     sod\n",
       "3  ce5a91d93e  red   17.563     sat\n",
       "4  ce5a91d93e  red    1.074     sug"
      ]
     },
     "execution_count": 8,
     "metadata": {},
     "output_type": "execute_result"
    }
   ],
   "source": [
    "data.head()"
   ]
  },
  {
   "cell_type": "markdown",
   "id": "a68131af",
   "metadata": {},
   "source": [
    "## Task 1: create a features and target dataset for classification"
   ]
  },
  {
   "cell_type": "code",
   "execution_count": 13,
   "id": "c5633706",
   "metadata": {},
   "outputs": [],
   "source": [
    "features = data.nfactor.unique()\n",
    "X = np.zeros((len(data['id'].unique()), len(features)))"
   ]
  },
  {
   "cell_type": "code",
   "execution_count": 17,
   "id": "1ad45d1b",
   "metadata": {},
   "outputs": [],
   "source": [
    "r2t = dict(data.groupby(['id', 'fat']).count().index.values)"
   ]
  },
  {
   "cell_type": "code",
   "execution_count": 14,
   "id": "b807f4e1",
   "metadata": {},
   "outputs": [
    {
     "data": {
      "text/plain": [
       "(10000, 6)"
      ]
     },
     "execution_count": 14,
     "metadata": {},
     "output_type": "execute_result"
    }
   ],
   "source": [
    "X.shape"
   ]
  },
  {
   "cell_type": "code",
   "execution_count": 29,
   "id": "81c3eb5e",
   "metadata": {},
   "outputs": [],
   "source": [
    "recepies = list(r2t.keys())\n",
    "y = [None]*len(recepies)\n",
    "\n",
    "for i, row in data.iterrows():\n",
    "    r = row['id']\n",
    "    fat = row['fat']\n",
    "    nf = row['nfactor']\n",
    "    nv = row['nvalue']\n",
    "    r2index = recepies.index(r)\n",
    "    y[r2index] = fat\n",
    "    X[r2index,list(features).index(nf)] = nv"
   ]
  },
  {
   "cell_type": "markdown",
   "id": "365fa127",
   "metadata": {},
   "source": [
    "## Task 2: create a train and test setting"
   ]
  },
  {
   "cell_type": "code",
   "execution_count": 33,
   "id": "743d6f11",
   "metadata": {},
   "outputs": [],
   "source": [
    "from sklearn.model_selection import train_test_split"
   ]
  },
  {
   "cell_type": "code",
   "execution_count": 34,
   "id": "0802ca7e",
   "metadata": {},
   "outputs": [],
   "source": [
    "X_train, X_test, y_train, y_test = train_test_split(X, y)"
   ]
  },
  {
   "cell_type": "markdown",
   "id": "765b11bf",
   "metadata": {},
   "source": [
    "## Task 3: train a classifier"
   ]
  },
  {
   "cell_type": "code",
   "execution_count": 35,
   "id": "aeabba46",
   "metadata": {},
   "outputs": [],
   "source": [
    "from sklearn.ensemble import RandomForestClassifier"
   ]
  },
  {
   "cell_type": "code",
   "execution_count": 36,
   "id": "bc231318",
   "metadata": {},
   "outputs": [
    {
     "data": {
      "text/plain": [
       "RandomForestClassifier()"
      ]
     },
     "execution_count": 36,
     "metadata": {},
     "output_type": "execute_result"
    }
   ],
   "source": [
    "rf = RandomForestClassifier()\n",
    "rf.fit(X_train, y_train)"
   ]
  },
  {
   "cell_type": "code",
   "execution_count": 37,
   "id": "bffd007b",
   "metadata": {},
   "outputs": [],
   "source": [
    "y_pred = rf.predict(X_test)"
   ]
  },
  {
   "cell_type": "markdown",
   "id": "fc5745e0",
   "metadata": {},
   "source": [
    "## Task 4: evaluate the classifiers and create a confusion matrix"
   ]
  },
  {
   "cell_type": "code",
   "execution_count": 38,
   "id": "7944dd17",
   "metadata": {},
   "outputs": [],
   "source": [
    "from sklearn.metrics import classification_report, confusion_matrix, ConfusionMatrixDisplay, adjusted_rand_score"
   ]
  },
  {
   "cell_type": "code",
   "execution_count": 39,
   "id": "d69b7b41",
   "metadata": {},
   "outputs": [
    {
     "name": "stdout",
     "output_type": "stream",
     "text": [
      "              precision    recall  f1-score   support\n",
      "\n",
      "       green       1.00      1.00      1.00       833\n",
      "      orange       1.00      1.00      1.00       883\n",
      "         red       1.00      1.00      1.00       784\n",
      "\n",
      "    accuracy                           1.00      2500\n",
      "   macro avg       1.00      1.00      1.00      2500\n",
      "weighted avg       1.00      1.00      1.00      2500\n",
      "\n"
     ]
    }
   ],
   "source": [
    "print(classification_report(y_test, y_pred, zero_division=0))"
   ]
  },
  {
   "cell_type": "code",
   "execution_count": null,
   "id": "b570726d",
   "metadata": {},
   "outputs": [],
   "source": []
  }
 ],
 "metadata": {
  "kernelspec": {
   "display_name": "Python 3 (ipykernel)",
   "language": "python",
   "name": "python3"
  },
  "language_info": {
   "codemirror_mode": {
    "name": "ipython",
    "version": 3
   },
   "file_extension": ".py",
   "mimetype": "text/x-python",
   "name": "python",
   "nbconvert_exporter": "python",
   "pygments_lexer": "ipython3",
   "version": "3.8.8"
  },
  "toc": {
   "base_numbering": 1,
   "nav_menu": {},
   "number_sections": true,
   "sideBar": true,
   "skip_h1_title": false,
   "title_cell": "Table of Contents",
   "title_sidebar": "Contents",
   "toc_cell": false,
   "toc_position": {},
   "toc_section_display": true,
   "toc_window_display": false
  }
 },
 "nbformat": 4,
 "nbformat_minor": 5
}
