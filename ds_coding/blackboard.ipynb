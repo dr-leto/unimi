{
 "cells": [
  {
   "cell_type": "markdown",
   "id": "8b3443a4",
   "metadata": {},
   "source": [
    "# Empty space for exploratory coding"
   ]
  },
  {
   "cell_type": "code",
   "execution_count": 6,
   "id": "217943ed",
   "metadata": {},
   "outputs": [],
   "source": [
    "import numpy as np"
   ]
  },
  {
   "cell_type": "code",
   "execution_count": 7,
   "id": "a145d097",
   "metadata": {},
   "outputs": [],
   "source": [
    "class Person(object):\n",
    "    \n",
    "    def __init__(self, name):\n",
    "        self.name = name\n",
    "        \n",
    "    def tell_name(self):\n",
    "        print(self.name)\n",
    "        \n",
    "class Student(Person):\n",
    "\n",
    "    def do_exam(self):\n",
    "        return np.random.randint(0, 31)\n",
    "    "
   ]
  },
  {
   "cell_type": "code",
   "execution_count": 8,
   "id": "b340eaab",
   "metadata": {},
   "outputs": [],
   "source": [
    "p = Person('gino')\n",
    "x = Person('maria')\n",
    "y = Student('lucia')"
   ]
  },
  {
   "cell_type": "code",
   "execution_count": 5,
   "id": "c04f0fc8",
   "metadata": {},
   "outputs": [
    {
     "name": "stdout",
     "output_type": "stream",
     "text": [
      "gino\n"
     ]
    }
   ],
   "source": [
    "p.tell_name()"
   ]
  },
  {
   "cell_type": "code",
   "execution_count": 9,
   "id": "91177918",
   "metadata": {},
   "outputs": [
    {
     "name": "stdout",
     "output_type": "stream",
     "text": [
      "lucia\n"
     ]
    }
   ],
   "source": [
    "y.tell_name()"
   ]
  },
  {
   "cell_type": "code",
   "execution_count": 11,
   "id": "cd8c498f",
   "metadata": {},
   "outputs": [
    {
     "data": {
      "text/plain": [
       "26"
      ]
     },
     "execution_count": 11,
     "metadata": {},
     "output_type": "execute_result"
    }
   ],
   "source": [
    "y.do_exam()"
   ]
  },
  {
   "cell_type": "code",
   "execution_count": 12,
   "id": "f9c09cc5",
   "metadata": {},
   "outputs": [],
   "source": [
    "import nltk"
   ]
  },
  {
   "cell_type": "code",
   "execution_count": 16,
   "id": "b732cb1f",
   "metadata": {},
   "outputs": [
    {
     "name": "stdout",
     "output_type": "stream",
     "text": [
      "[('t', 'h', 'i'), ('h', 'i', 's'), ('i', 's', ' '), ('s', ' ', 'i'), (' ', 'i', 's'), ('i', 's', ' '), ('s', ' ', 'a'), (' ', 'a', ' '), ('a', ' ', 's'), (' ', 's', 't'), ('s', 't', 'r'), ('t', 'r', 'i'), ('r', 'i', 'n'), ('i', 'n', 'g')]\n"
     ]
    }
   ],
   "source": [
    "s = 'this is a string'\n",
    "print([x for x in nltk.ngrams(s, n=3)])"
   ]
  },
  {
   "cell_type": "code",
   "execution_count": null,
   "id": "f8098730",
   "metadata": {},
   "outputs": [],
   "source": []
  }
 ],
 "metadata": {
  "kernelspec": {
   "display_name": "Python 3 (ipykernel)",
   "language": "python",
   "name": "python3"
  },
  "language_info": {
   "codemirror_mode": {
    "name": "ipython",
    "version": 3
   },
   "file_extension": ".py",
   "mimetype": "text/x-python",
   "name": "python",
   "nbconvert_exporter": "python",
   "pygments_lexer": "ipython3",
   "version": "3.8.8"
  },
  "toc": {
   "base_numbering": 1,
   "nav_menu": {},
   "number_sections": true,
   "sideBar": true,
   "skip_h1_title": false,
   "title_cell": "Table of Contents",
   "title_sidebar": "Contents",
   "toc_cell": false,
   "toc_position": {},
   "toc_section_display": true,
   "toc_window_display": false
  }
 },
 "nbformat": 4,
 "nbformat_minor": 5
}
